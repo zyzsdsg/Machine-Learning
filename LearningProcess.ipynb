{
 "cells": [
  {
   "cell_type": "markdown",
   "id": "37d27861",
   "metadata": {},
   "source": [
    "This file is used to record the yhing "
   ]
  }
 ],
 "metadata": {
  "kernelspec": {
   "display_name": "VIX",
   "language": "python",
   "name": "python3"
  },
  "language_info": {
   "name": "python",
   "version": "3.10.16"
  }
 },
 "nbformat": 4,
 "nbformat_minor": 5
}
